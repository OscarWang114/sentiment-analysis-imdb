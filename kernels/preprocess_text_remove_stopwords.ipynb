{
 "cells": [
  {
   "cell_type": "code",
   "execution_count": 1,
   "metadata": {},
   "outputs": [
    {
     "name": "stdout",
     "output_type": "stream",
     "text": [
      "['word2vec_model_300dim_40minwords_10context', 'sentences_for_word2vec_convert_10.csv', 'cc.en.300.vec', 'sampleSubmission.csv', 'fasttext_embed_pretrained_cc_convert_10.sh', 'labeled_train_clean_reviews.csv', 'word2vec_model_300dim_40minwords_10context_stemmed', 'labeledTrainData.tsv', 'sentences_for_word2vec.csv', 'fasttext_300features_40minwords_10context.vec', 'labeled_train_clean_reviews_stemmed.csv', 'fasttext_300features_40minwords_10context_pretrained_cc.vec', 'test_clean_reviews_convert_10.csv', 'fasttext_300features_40minwords_10context_convert_10.vec', 'fasttext_300features_40minwords_10context.bin', 'test_submission.csv', 'fasttext_embed_pretrained_wiki.sh', 'fasttext_300features_40minwords_10context_pretrained_wiki_convert_10.bin', 'wiki-news-300d-1M.vec', 'fasttext_embed_pretrained_wiki_convert_10.sh', 'testData.tsv', 'fasttext_300features_40minwords_10context_pretrained_wiki.bin', 'cc.en.300.bin', 'fasttext_300features_40minwords_10context_pretrained_wiki.vec', 'fasttext_300features_40minwords_10context_convert_10.bin', 'fasttext_300features_40minwords_10context_pretrained_cc.bin', 'unlabeledTrainData.tsv', 'word2vec_model_300dim_40minwords_10context_convert_10', 'test_clean_reviews.csv', 'sentences_for_word2vec_stemmed.csv', 'sentences_for_fasttext.txt', 'test_clean_reviews_stemmed.csv', 'word2vec_model_300dim_40minwords_10context_new_not_sure_if_used', 'fasttext_300features_40minwords_10context_pretrained_wiki_convert_10.vec', 'sentences_for_fasttext_convert_10.txt', 'fasttext_embed_pretrained_cc.sh', 'fasttext_embed_convert_10.sh', 'labeled_train_clean_reviews_convert_10.csv', 'crawl-300d-2M.vec']\n"
     ]
    }
   ],
   "source": [
    "import numpy as np\n",
    "import pandas as pd\n",
    "from bs4 import BeautifulSoup\n",
    "import pickle\n",
    "import os, re\n",
    "import nltk\n",
    "BASE_DIR = '../input/'\n",
    "LABELED_TRAIN_DF = BASE_DIR + 'labeledTrainData.tsv'\n",
    "UNLABELED_TRAIN_DF = BASE_DIR + 'unlabeledTrainData.tsv'\n",
    "TEST_DF = BASE_DIR + 'testData.tsv'\n",
    "print(os.listdir(BASE_DIR))"
   ]
  },
  {
   "cell_type": "code",
   "execution_count": 2,
   "metadata": {},
   "outputs": [
    {
     "name": "stdout",
     "output_type": "stream",
     "text": [
      "Read 25000 labeled train reviews, 50000 unlabeled train reviews, and 25000 test reviews\n"
     ]
    }
   ],
   "source": [
    "labeled_train = pd.read_csv(LABELED_TRAIN_DF, header = 0, delimiter = '\\t', quoting=3)\n",
    "unlabeled_train = pd.read_csv(UNLABELED_TRAIN_DF, header = 0, delimiter = '\\t', quoting=3)\n",
    "test = pd.read_csv(TEST_DF, header = 0, delimiter = '\\t', quoting=3)\n",
    "print \"Read %d labeled train reviews, %d unlabeled train reviews, \" \\\n",
    "          \"and %d test reviews\" % (labeled_train[\"review\"].size, unlabeled_train[\"review\"].size, test[\"review\"].size)"
   ]
  },
  {
   "cell_type": "markdown",
   "metadata": {},
   "source": [
    "Data leakage\n",
    "\n",
    "Check if test[\"sentiment\"] is correct "
   ]
  },
  {
   "cell_type": "code",
   "execution_count": 3,
   "metadata": {},
   "outputs": [],
   "source": [
    "test[\"sentiment\"] = test[\"id\"].map(lambda x: 1 if int(x.strip('\"').split(\"_\")[1]) >= 5 else 0)\n",
    "y_test = test[\"sentiment\"]"
   ]
  },
  {
   "cell_type": "markdown",
   "metadata": {},
   "source": [
    "Credits: Kaggle tutorial"
   ]
  },
  {
   "cell_type": "code",
   "execution_count": 4,
   "metadata": {},
   "outputs": [],
   "source": [
    "from nltk.corpus import stopwords\n",
    "from nltk.stem import SnowballStemmer\n",
    "\n",
    "def review_to_clean_review(review, remove_stopwords=False, remove_numbers=True, stem_words=False):\n",
    "    review_text = BeautifulSoup(review, \"lxml\").get_text()\n",
    "    review_text = re.sub(\"[^a-zA-Z0-9]\", \" \", review_text)\n",
    "    \n",
    "    if remove_numbers:\n",
    "        review_text = re.sub(\"[0-9]\", \" \", review_text)\n",
    "    else:\n",
    "        review_text = review_text.replace('0', ' zero ')\n",
    "        review_text = review_text.replace('1', ' one ')\n",
    "        review_text = review_text.replace('2', ' two ')\n",
    "        review_text = review_text.replace('3', ' three ')\n",
    "        review_text = review_text.replace('4', ' four ')\n",
    "        review_text = review_text.replace('5', ' five ')\n",
    "        review_text = review_text.replace('6', ' six ')\n",
    "        review_text = review_text.replace('7', ' seven ')\n",
    "        review_text = review_text.replace('8', ' eight ')\n",
    "        review_text = review_text.replace('9', ' nine ')\n",
    "    \n",
    "    review_text = review_text.lower()\n",
    "    \n",
    "    if remove_stopwords:\n",
    "        words = review_text.split()\n",
    "        stops = set(stopwords.words('english'))\n",
    "        words = [w for w in words if not w in stops]\n",
    "        review_text = \" \".join(words)\n",
    "    \n",
    "    if stem_words:\n",
    "        words = review_text.split()\n",
    "        stemmer = SnowballStemmer('english')\n",
    "        words = [stemmer.stem(word) for word in words]\n",
    "        review_text = \" \".join(words)\n",
    "    \n",
    "    return(review_text.strip())\n",
    "\n",
    "def review_to_wordlist(review, remove_stopwords=False, remove_numbers=True, stem_words=False):\n",
    "\n",
    "    words = review_to_clean_review(review, remove_stopwords, remove_numbers, stem_words).split()\n",
    "    return words\n",
    "\n",
    "def review_to_sentences(review, tokenizer, remove_stopwords=False, remove_numbers=True, stem_words=False):\n",
    "    \n",
    "    raw_sentences = tokenizer.tokenize(review.decode('utf8').strip())\n",
    "    \n",
    "    sentences = []\n",
    "    for raw_sentence in raw_sentences:\n",
    "        # If a sentence is empty, skip it\n",
    "        if len(raw_sentence) > 0:\n",
    "            # Otherwise, call review_to_wordlist to get a list of words\n",
    "            sentences.append(review_to_wordlist(raw_sentence, remove_stopwords, remove_numbers, stem_words))\n",
    "    return sentences"
   ]
  },
  {
   "cell_type": "code",
   "execution_count": 5,
   "metadata": {},
   "outputs": [
    {
     "name": "stdout",
     "output_type": "stream",
     "text": [
      "[[u'this', u'is', u'an', u'exampl', u'of', u'a', u'movi', u'review'], [u'it', u'has', u'two', u'sentenc']]\n"
     ]
    }
   ],
   "source": [
    "tokenizer = nltk.data.load('tokenizers/punkt/english.pickle')\n",
    "example_review = \"This is an example of a movie review. It has two sentences.\"\n",
    "print(review_to_sentences(example_review, tokenizer, remove_numbers=False, stem_words=True))"
   ]
  },
  {
   "cell_type": "code",
   "execution_count": 6,
   "metadata": {},
   "outputs": [],
   "source": [
    "%%script false \n",
    "tokenizer = nltk.data.load('tokenizers/punkt/english.pickle')\n",
    "# Initialize an empty list of sentences\n",
    "stemmed_sentences = []\n",
    "sentences = []\n",
    "# Parsing sentences from training set\n",
    "counter = 0.\n",
    "for review in labeled_train[\"review\"]:\n",
    "#     stemmed_sentences += review_to_sentences(review, tokenizer, remove_stopwords=False, remove_numbers=False, stem_words=True)\n",
    "    sentences += review_to_sentences(review, tokenizer, remove_stopwords=False, remove_numbers=False, stem_words=False)\n",
    "    if counter % 5000. == 0.:\n",
    "        print \"Labled train review %d of %d\" % (counter, len(labeled_train[\"review\"]))\n",
    "    counter = counter + 1.\n",
    "\n",
    "counter = 0.\n",
    "# Parsing sentences from unlabeled set\n",
    "for review in unlabeled_train[\"review\"]:\n",
    "#     stemmed_sentences += review_to_sentences(review, tokenizer, remove_stopwords=False, remove_numbers=False, stem_words=True)\n",
    "    sentences += review_to_sentences(review, tokenizer, remove_stopwords=False, remove_numbers=False, stem_words=False)\n",
    "    if counter % 5000. == 0.:\n",
    "        print \"Unlabled train review %d of %d\" % (counter, len(unlabeled_train[\"review\"]))\n",
    "    counter = counter + 1."
   ]
  },
  {
   "cell_type": "code",
   "execution_count": 7,
   "metadata": {},
   "outputs": [],
   "source": [
    "%%script false \n",
    "print(np.random.choice(sentences, 10))"
   ]
  },
  {
   "cell_type": "code",
   "execution_count": 8,
   "metadata": {},
   "outputs": [],
   "source": [
    "%%script false \n",
    "joined_sentences = [\" \".join(sentence).strip() for sentence in sentences]\n",
    "output_sentences = pd.DataFrame(data={\"sentences\": joined_sentences})\n",
    "output_sentences.to_csv(os.path.join('../', 'input', \"sentences_for_word2vec.csv\"), index=False)"
   ]
  },
  {
   "cell_type": "code",
   "execution_count": 9,
   "metadata": {},
   "outputs": [
    {
     "name": "stdout",
     "output_type": "stream",
     "text": [
      "Train review 0 of 25000\n",
      "Train review 5000 of 25000\n",
      "Train review 10000 of 25000\n",
      "Train review 15000 of 25000\n",
      "Train review 20000 of 25000\n",
      "Test review 0 of 25000\n",
      "Test review 5000 of 25000\n",
      "Test review 10000 of 25000\n",
      "Test review 15000 of 25000\n",
      "Test review 20000 of 25000\n"
     ]
    }
   ],
   "source": [
    "labeled_train_clean_reviews = []\n",
    "counter = 0.\n",
    "for review in labeled_train[\"review\"]:\n",
    "    clean_review = review_to_clean_review(review, remove_stopwords=True, remove_numbers=False, stem_words=False)\n",
    "    labeled_train_clean_reviews.append(clean_review)\n",
    "    if counter % 5000. == 0.:\n",
    "        print \"Train review %d of %d\" % (counter, len(labeled_train[\"review\"]))\n",
    "    counter = counter + 1.\n",
    "\n",
    "test_clean_reviews = []\n",
    "counter = 0.\n",
    "for review in test[\"review\"]:\n",
    "    clean_review = review_to_clean_review(review, remove_stopwords=True, remove_numbers=False, stem_words=False)\n",
    "    test_clean_reviews.append(clean_review)\n",
    "    if counter % 5000. == 0.:\n",
    "        print \"Test review %d of %d\" % (counter, len(test[\"review\"]))\n",
    "    counter = counter + 1."
   ]
  },
  {
   "cell_type": "code",
   "execution_count": 10,
   "metadata": {},
   "outputs": [
    {
     "name": "stdout",
     "output_type": "stream",
     "text": [
      "[u'cynical writers pander may american citizen need see americans pat back hour half order enjoy film astonished commented utterly jingoistic sentimental trite dialogue film really historical inaccuracies film gross offensive u five seven one changes british submariners american ones still walk away feeling little slimy really germans film nothing admire americans battle scenes sad unnecessary like say writers obvious many us capture real people real problems real pressure taken well tested shortcuts lucky always nationalist nutjobs appreciate sugar coated tripe'\n",
      " u'brilliant acting lesley ann warren best dramatic hobo lady ever seen love scenes clothes warehouse second none corn face classic good anything blazing saddles take lawyers also superb accused turncoat selling boss dishonest lawyer pepto bolt shrugs indifferently lawyer says three funny words jeffrey tambor favorite later larry sanders show fantastic mad millionaire wants crush ghetto character malevolent usual hospital scene scene homeless invade demolition site time classics look legs scene two big diggers fighting one bleeds movie gets better time see quite often'\n",
      " u'thirty years ago author numa sadoul published book length interview belgian comic book artist georges remi better known herge creator tintin movie catches sadoul today recalls interview listen cassettes herge died one nine eight three see old photos footage man parts interview published book request herge know dealt separation wife affair one collaborators years later would become second wife interesting thing movie address well shift tintin books early rightist imperialist books tintin congo tintin lands soviets fairly anti imperialist books years later blue lotus whole come movie knowing things herge seeing bit unlikable come theater'\n",
      " u'seen many good korean movies including thrillers movies darker overtone one sucks director seems sadist happened get someone produce junk movie lacks sort entertainment value even thriller believe someone really made movie even though acting ok story line feeling leaves awful sure going see movies director sense movie making utter disappointment thriller moments showing scenes psychopath wasting reels badly shot scenes showing blood violence thinking makes thrilling disappointing movie strongly recommend skipping movies sort'\n",
      " u'use entire budget paying porno stars sound effects background music editing general bad think one two year old wanna made film acting good considering script innocent virgin played part really well mutants look really cool actually could really cool flick right brain behind wheel unfortunately involved case turn left made better movie guys even money good thing rent movie'\n",
      " u'show absolutely terrible one george funny kids snobby little brats also treats mother respect hispanic highly offended show way characters portrayed plus dysfunctional family thing done death want see something original makes show funny shows done millions times thought abc would come senses pull piece garbage air sadly going stomach jump shark opinion already'\n",
      " u'michael callan plays smarmy photographer seems nonetheless regarded perfect catch woman runs across could anything fact also co produced film hero difficult empathize movie trouble right start however troubles end production values tv movie check head made clay something near end ending cheats way reveal case anyone wants see movie highly unlikely let say killer knows let know knows one two'\n",
      " u'well say watched fantastic film nerves still jangling jacques audiard director must making quite name france rightly vince cassel tom cruise emmanuelle devos penelope cruz either two fantastic actors taut compelling thriller starts slowly clever character building starts put tension tension wonderful climax others written plot say everyone film plays role perfection director actors right cameraman everything seems real stupid gun play fighting happens credible expressions emotions almost spectator favour get dvd bottle wine turn lights low take phone hook immerse hitchcockian thriller'\n",
      " u'tell screaming skull trying hitchcock rip modernized edgar allen poe tribute days someone would chopped bit presented one tv anthology episodes old tales dark side extensive rewrite sad thing seems nice nasty little story trying get rubble movie actors obviously best talent material work director know stage pace dramatic scene special effects simply work screenplay telegraphed threadbare plot points plainly bivalve could seen coming soundtrack kept playing german oompah band music supposed trying scare audience tried tried really hard interest period piece suppose someone young seen lot suspense horror might get charge screaming skull someone young probably get subtext plot motivation mommy nice man trying scare twisty faced scaredy cat lady'\n",
      " u'one thing count disney uncanny ability take story tell even watching commercial lady tramp ii horrible experience disney going ruin one awesome classics ever even spaghetti meatball scene done say sorry direct video entire concept banned everything rehash original movie even several bluth really bad movies penguin walrus duo even forgotten names really poor carbon copy timon pumbaa morgana another ursula even repeats practically old lines songs pathetic really abysmal never heard songs bad dialogue atrocious pathetic simplistic plus side least took time make animation somewhat decent usual characters annoying used maybe minus little mermaid fans back negative melody sickeningly cute might vomit almost little mermaid fan favor waste money true horrific return jafar pocahontas ii little consolation']\n",
      "[u'movie tries first acting horrible get past incredibly bad delivering lines terrible emoting plot quite interesting shipwreck occurs apparently made strings balsa wood couple guys find shore bad enough guy named count de sade living well lives fear pirates gone utterly insane anyway large slave young woman dogs another woman speak wife leper anyway things get bad men deal nut case arrogant likes pose deliver lines rest movie involves attempt escape ironic ending reveal kind rescues film bother'\n",
      " u'absolutely love movie evil dead nothing film night demons two three total bore fest one classic super cheesy acting alright best could want eight zero horror movie stooge best one liners ever hit screen one favorite character lot people talk lipstick scene movie personal favorite ending sadly enough nothing main characters old man eats left halloween apples pie throat mangled inside sound track awesome scene angela dancing totally creepy especially strobe light comes see jump one part floor next every sound camera shutter click song playing make effects movie pretty sweet angela gave nightmares kid type person demands perfection filming experience might want give one pass like really dig whole halloween haunted house demons clich one definitely must'\n",
      " u'see movie big footnote history film film made american film industry reached bottom sucking see movie laugh feel sorry wasting last two hours life worst acting seen even worse directing villains laugh like taken clown circus guys scary movie want parody superhero movies take script movie remake called black scorpion iii threat really really bad movies way manages lure production companies sequel suicide'\n",
      " u'without doubt stupidest movie time know angrier idiots made video store actually carrying piece crap even begin name things wrong horrible wanna movie dialogue sounds like made spot acting worst ever seen movie ever nothing script would appeal decent person fact think even script made everything went along tell women e men dressed drag trying look like women costumes looked ridiculous guess trying sexy much especially old woman disgusting nothing scary movie thing scary somebody else might actually rent watch brain required watching must total loser want see movie forget warned'\n",
      " u'roopa kamalinee mukherjee loses parents family members gruesome car accident starts living independent woman without taking help relatives boy friend named rahul anuj get married backs due behavior future mother law due lack confidence shown boyfriend anand raja joins neighborhood starts making roopa feel comfortable secure rest story anand md richest corporate house ap chosen reside neighbor roopa follows next movie freshness rarely see indian movies although story goes slow get sense familiarity kudos director shekhar kammula awesome direction brilliant music background score composed k radhakrishnan adds quality kamalini mukherjee rupa given marvelous performance think best choice role non glamorous looks amazing histrionics anand raja done well watched movie thrice enjoyed thoroughly every time class apart daily dose action movies get highly recommended'\n",
      " u'review put far long bluntly two zero zero one one best science fiction films made date best stanley kubrick genius film maker one best works although misunderstood many respectively underrated considered one best films time agree back one nine six eight one done anything like one since marvel special effects breakthrough back seeing effects hold today wonder film still looks marvelous almost forty years take note cgi people use large miniatures realistic lighting kubrick created best special effects ever put celluloid aspect alone almost single handedly created chilling void space atmosphere also attributed music realistic sound effects think another film anything space like reality absence sound effects space realistic used cleverly tool establish mood works flawlessly aside magnificent display ingenious special effects factors play part establishing feel film music played classical compliment eyes seeing make feel significance man journey evolution ape space traveler story seemingly simple profound sequentially several mysterious black monoliths discovered basically trigger certain events integral film come questions one asks oneself watching story develop asked find way come away general idea took place story individual decide means way one decides answer question results profound solutions left entirely interpretation aspects experience clarification end result quite chilling matter personal solution long film sometimes slows order accurately portray journey man subject would faired well shorter film faster paced feature short attention spans need apply last least epitome remorseless antagonist hal nine zero zero zero computer never machine held chilling screen presence reminds film profound ambition execution surprisingly little dialogue another sign kubrick genius one best films made date one best science fiction films made personal favorite everyone must see film least highly recommended'\n",
      " u'seen lonesome dove dead man walk streets laredo return lonesome dove hungry watching lonesome dove fill yer belly great cast great story definitely close second lonesome dove purchasing movie add collection best least favorite performance jon voight captain call lou gossett jr playing isom pickett somebody mess bad ass perspective william peterson great job well rick schroder back newt angst filled performance reminds stint nypd blue problem film really picking nits impression call wanted first man graze cattle montana obvious dunnigan already little inconsistent easily overlooked lose fantastic tale especially love apparent character growth jasper fant july johnson watched movie several times ready another sequel'\n",
      " u'big spoiler terrible movie likable characters many clich senseless scenes needs good editor might movie left please save two hours decent unpredictable scene movie younger brother refuses stop brother killing description read moments dark comedy perhaps missed blinked horrible characters start right funeral funeral goers laughing complaining food funeral young man committed suicide father makes digs son left right funeral next door neighbor whose husband cheated sigourney weaver character bad guy telling husband father even know son play piano though everyone else around seems know great pianist movie tries shove every dramatic clich possible one movie father driving athletic son succeed dysfunctional family losing chosen son suicide son left feeling lost alone drugs marital affairs child conceived via affair raised husband son incest homosexual tendencies bullies possible terminal illness etc etc etc waste two hours'\n",
      " u'although film less forty minutes one best directed acted stories ever seen accomplishes less four five minutes films cannot nine zero story two brothers one one eight one zero come poor farm family mississippi caught war conflict duty verses love family brought tears eyes especially entire film well acted directed plus tells story many wars one serves left behind fully recommend film beyond superb'\n",
      " u'happened across movie channel surfing seemed yet another poorly made christian film end times find rather entertaining take seriously fair saw last three zero minutes missed part ufos sci fi stuff long enough categorize embarrassing appalling representation christian faith well rather pathetic film artistic sense film script terrible acting mediocre pacing poor cinematography direction sub par interesting visuals layered plot line creativity blame budget films still interesting without special effects christian films cannot excuse mediocrity unoriginality artistic sphere message message hardly christian disclaimer rest comment targeted towards christians first unethical business bait switch customers like told win free ipod realize spend three zero zero participating stores first nonchristians like told watching sci fi film get bombarded christian propaganda subtlety sledgehammer hidden agendas win friends much less converts secondly use overt threats convince people beliefs true actors represented christians came callous smug bullies dealing skeptical unbeliever even go far stage rapture order scare believing representational dialogue turn jesus go hell fine believe sorry day die guarantee wish paid attention jesus stuff land belly hell ok may exaggerating certainly came manner think clear message christ wrong recall jesus using threats coercion think people make authentic decision believe fear christians please use witnessing tool unsaved friends heavy handed offensive inaccurate portraying true christian message thirdly theology bad apart characterizing jesus means hell insurance gave room debate discussion attempt engage issue whether ufos alien life could exist instead offered one pat answer ufos devil scheme deceive people rapture happens neither biblical widely accepted christians bible mention ufos aliens use source draw conclusions one way rapture necessarily even widely accepted sound biblical concept though nowadays evangelical christians seem believe popular book series research many supportive reviewers suggesting idea two comings christ first rapture relatively new phenomena church tradition popularized traveling evangelists around turn two zero th century majority orthodox christians probably find film message pretty big stretch rests lot unsupported presuppositions basically film misses mark worthwhile piece entertainment accurate representation christianity beliefs recommend']\n"
     ]
    }
   ],
   "source": [
    "print(np.random.choice(labeled_train_clean_reviews, 10))\n",
    "print(np.random.choice(test_clean_reviews, 10))"
   ]
  },
  {
   "cell_type": "code",
   "execution_count": 11,
   "metadata": {},
   "outputs": [],
   "source": [
    "output_labeled_train_clean_reviews = \\\n",
    "    pd.DataFrame(data={\"id\": labeled_train[\"id\"], \"sentiment\": labeled_train[\"sentiment\"], \"review\": labeled_train_clean_reviews})\n",
    "output_test_clean_reviews = \\\n",
    "    pd.DataFrame(data={\"id\": test[\"id\"], \"review\": test_clean_reviews})\n",
    "\n",
    "output_labeled_train_clean_reviews.to_csv(os.path.join('../', 'input', \"labeled_train_clean_reviews_remove_stopwords.csv\"), index=False, quoting=3)\n",
    "output_test_clean_reviews.to_csv(os.path.join('../', 'input', \"test_clean_reviews_remove_stopwords.csv\"), index=False, quoting=3)"
   ]
  },
  {
   "cell_type": "markdown",
   "metadata": {},
   "source": [
    "Training the Word2Vec model"
   ]
  },
  {
   "cell_type": "code",
   "execution_count": 12,
   "metadata": {
    "scrolled": true
   },
   "outputs": [],
   "source": [
    "%%script false \n",
    "#Import the built-in logging module and configure it so that Word2Vec\n",
    "# creates nice output messages\n",
    "import logging\n",
    "logging.basicConfig(format='%(asctime)s : %(levelname)s : %(message)s', \\\n",
    "                    level=logging.INFO)\n",
    "\n",
    "from gensim.models import Word2Vec\n",
    "EMBEDDING_DIM = 300  # Word vector dimensionality\n",
    "MIN_WORD_COUNT = 40  # Minimum word count. Kaggle set to 40, to avoid attaching too much importance to individual movie titles.\n",
    "NUM_THREADS = 4  # Number of threads to run in parallel\n",
    "CONTEXT = 10  # Context window size\n",
    "DOWNSAMPLING = 1e-3  # Downsample setting for frequent words\n",
    "WORD2VEC_MODEL_FILE = BASE_DIR + \\\n",
    "    \"word2vec_model_\" + \\\n",
    "    str(EMBEDDING_DIM) + \"dim_\" + \\\n",
    "    str(MIN_WORD_COUNT) + \"minwords_\" + \\\n",
    "    str(CONTEXT) + \"context_\" +\\\n",
    "    \"new\"\n",
    "\n",
    "print \"Training the Word2Vec model...\"\n",
    "model = Word2Vec(sentences, workers=NUM_THREADS, \\\n",
    "                 size=EMBEDDING_DIM, min_count=MIN_WORD_COUNT, \\\n",
    "                 window=CONTEXT, sample=DOWNSAMPLING, seed=1)\n",
    "model.save(WORD2VEC_MODEL_FILE)\n"
   ]
  },
  {
   "cell_type": "markdown",
   "metadata": {},
   "source": [
    "Generate the txt file for FastText"
   ]
  },
  {
   "cell_type": "code",
   "execution_count": 13,
   "metadata": {},
   "outputs": [],
   "source": [
    "%%script false \n",
    "sentences = pd.read_csv(\"../input/sentences_for_word2vec.csv\", header = 0)\n",
    "# sentences_stemmed = pd.read_csv(\"../input/sentences_for_word2vec_stemmed.csv\", header = 0)\n",
    "sentences[\"sentences\"] = sentences[\"sentences\"].astype(str)\n",
    "sentences = sentences[\"sentences\"].tolist()\n",
    "# sentences_stemmed = sentences_stemmed[\"sentences\"].tolist()\n",
    "print(np.random.choice(sentences, 10))"
   ]
  },
  {
   "cell_type": "code",
   "execution_count": 14,
   "metadata": {},
   "outputs": [],
   "source": [
    "%%script false \n",
    "output_sentences = open('../input/sentences_for_fasttext.txt', 'w')\n",
    "for sentence in sentences:\n",
    "    output_sentences.write(sentence + '\\n')\n",
    "output_sentences.close()"
   ]
  },
  {
   "cell_type": "code",
   "execution_count": null,
   "metadata": {},
   "outputs": [],
   "source": []
  }
 ],
 "metadata": {
  "kernelspec": {
   "display_name": "Python 2",
   "language": "python",
   "name": "python2"
  },
  "language_info": {
   "codemirror_mode": {
    "name": "ipython",
    "version": 2
   },
   "file_extension": ".py",
   "mimetype": "text/x-python",
   "name": "python",
   "nbconvert_exporter": "python",
   "pygments_lexer": "ipython2",
   "version": "2.7.13"
  }
 },
 "nbformat": 4,
 "nbformat_minor": 2
}
